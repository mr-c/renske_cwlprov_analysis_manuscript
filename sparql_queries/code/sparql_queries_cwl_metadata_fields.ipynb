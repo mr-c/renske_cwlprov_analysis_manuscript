{
 "cells": [
  {
   "cell_type": "markdown",
   "metadata": {},
   "source": [
    "# SPARQL queries of CWLProv provenance files\n",
    "This document provides an overview of different SPARQL queries, together with their (expected) result."
   ]
  },
  {
   "cell_type": "markdown",
   "metadata": {},
   "source": [
    "## Import modules & queries"
   ]
  },
  {
   "cell_type": "code",
   "execution_count": 1,
   "metadata": {},
   "outputs": [],
   "source": [
    "import os\n",
    "import rdflib\n",
    "from pathlib import Path\n",
    "from rdflib.plugins.sparql import prepareQuery\n",
    "from rdflib.namespace import Namespace\n",
    "import pandas as pd"
   ]
  },
  {
   "cell_type": "code",
   "execution_count": 2,
   "metadata": {},
   "outputs": [],
   "source": [
    "cwd = Path(os.getcwd())\n",
    "queries_dir = cwd.parent / 'queries'"
   ]
  },
  {
   "cell_type": "code",
   "execution_count": 3,
   "metadata": {},
   "outputs": [],
   "source": [
    "SCHEMA = Namespace(\"http://schema.org/\")\n",
    "WFDESC = Namespace(\"http://purl.org/wf4ever/wfdesc#\")"
   ]
  },
  {
   "cell_type": "markdown",
   "metadata": {},
   "source": [
    "## Functions"
   ]
  },
  {
   "cell_type": "code",
   "execution_count": 4,
   "metadata": {},
   "outputs": [],
   "source": [
    "def run_query(rdf_file, query_file, namespaces):\n",
    "    \"\"\"\n",
    "    rdf_file = RDF file; query_file = path to sparql query file.\n",
    "    \"\"\"\n",
    "    g = rdflib.Graph()\n",
    "    g.parse(rdf_file)\n",
    "    with open(query_file, 'r')  as f:\n",
    "        query_string = f.read()\n",
    "        query = prepareQuery(\n",
    "            queryString = query_string,\n",
    "            initNs = namespaces,\n",
    "        )\n",
    "\n",
    "    print(f\"SPARQL QUERY IS:\\n{query}\")\n",
    "    \n",
    "    qres = g.query(query)\n",
    "    \n",
    "    results = pd.DataFrame(qres.bindings).map(str).rename(columns=str)\n",
    "    return results"
   ]
  },
  {
   "cell_type": "code",
   "execution_count": 5,
   "metadata": {},
   "outputs": [],
   "source": [
    "def extract_wf_namespace(rdf_file):\n",
    "    \"\"\"\n",
    "    Function which extracts namespace from CWLProv RDF provenance graph.\n",
    "    \"\"\"\n",
    "    g = rdflib.Graph()\n",
    "    g.parse(rdf_file)\n",
    "    namespaces = list(g.namespaces())\n",
    "    wf_namespace = \"\"\n",
    "    for ns in namespaces:\n",
    "        (prefix, namespace) = ns\n",
    "        if prefix == \"wf\":\n",
    "            wf_namespace = namespace\n",
    "\n",
    "    return wf_namespace"
   ]
  },
  {
   "cell_type": "markdown",
   "metadata": {},
   "source": [
    "## SPARQL queries"
   ]
  },
  {
   "cell_type": "markdown",
   "metadata": {},
   "source": [
    "Return the doc, label, and intent fields of the main workflow."
   ]
  },
  {
   "cell_type": "code",
   "execution_count": 6,
   "metadata": {},
   "outputs": [
    {
     "name": "stdout",
     "output_type": "stream",
     "text": [
      "SPARQL QUERY IS:\n",
      "<rdflib.plugins.sparql.sparql.Query object at 0x118c048f0>\n",
      "      doc                                  intent     label  \\\n",
      "0  WF_doc  http://edamontology.org/operation_0004  WF_label   \n",
      "\n",
      "                                                  wf  \n",
      "0  arcp://uuid,d589fe1c-9550-46b1-b2ed-260a515e74...  \n"
     ]
    }
   ],
   "source": [
    "provenance_file = cwd.parent / \"data/scenario1/ro/metadata/provenance/primary.cwlprov.ttl\" \n",
    "\n",
    "wf_namespace = extract_wf_namespace(provenance_file)\n",
    "\n",
    "namespaces = {\"wf\": wf_namespace, \n",
    "              \"wfdesc\": WFDESC,\n",
    "              \"schema\": SCHEMA }\n",
    "extract_wf_doc_query = queries_dir / \"wf_metadata_fields.sparql\"\n",
    "response = run_query(provenance_file, extract_wf_doc_query, namespaces)\n",
    "print(response)"
   ]
  },
  {
   "cell_type": "markdown",
   "metadata": {},
   "source": [
    "Return doc and label fields of every workflow step."
   ]
  },
  {
   "cell_type": "code",
   "execution_count": 13,
   "metadata": {},
   "outputs": [
    {
     "name": "stdout",
     "output_type": "stream",
     "text": [
      "SPARQL QUERY IS:\n",
      "<rdflib.plugins.sparql.sparql.Query object at 0x11926f950>\n",
      "           doc          label  \\\n",
      "0  wf_step_doc  wf_step_label   \n",
      "\n",
      "                                             main_wf  \\\n",
      "0  arcp://uuid,d589fe1c-9550-46b1-b2ed-260a515e74...   \n",
      "\n",
      "                                        main_wf_step  \n",
      "0  arcp://uuid,d589fe1c-9550-46b1-b2ed-260a515e74...  \n"
     ]
    }
   ],
   "source": [
    "namespaces = {\"wf\": wf_namespace, \n",
    "              \"wfdesc\": WFDESC,\n",
    "              \"schema\": SCHEMA }\n",
    "extract_wf_step_doc_query = queries_dir / \"wf_step_metadata_fields.sparql\"\n",
    "response = run_query(provenance_file, extract_wf_step_doc_query, namespaces)\n",
    "print(response)"
   ]
  },
  {
   "cell_type": "markdown",
   "metadata": {},
   "source": [
    "Return doc, label, and intent fields of every command-line tool/nested workflow that is run by each of the steps."
   ]
  },
  {
   "cell_type": "code",
   "execution_count": 7,
   "metadata": {},
   "outputs": [
    {
     "name": "stdout",
     "output_type": "stream",
     "text": [
      "SPARQL QUERY IS:\n",
      "<rdflib.plugins.sparql.sparql.Query object at 0x107fab410>\n",
      "       doc                                  intent      label  \\\n",
      "0  CLT_doc  http://edamontology.org/operation_0004  CLT_label   \n",
      "\n",
      "                                             main_wf  \n",
      "0  arcp://uuid,d589fe1c-9550-46b1-b2ed-260a515e74...  \n"
     ]
    }
   ],
   "source": [
    "namespaces = {\"wf\": wf_namespace, \n",
    "              \"wfdesc\": WFDESC,\n",
    "              \"schema\": SCHEMA }\n",
    "extract_clt_doc_query = queries_dir / \"clt_nested_wf_metadata_fields.sparql\"\n",
    "response = run_query(provenance_file, extract_clt_doc_query, namespaces)\n",
    "print(response)"
   ]
  },
  {
   "cell_type": "markdown",
   "metadata": {},
   "source": [
    "List doc, label, format fields of all input parameters of main workflow."
   ]
  },
  {
   "cell_type": "code",
   "execution_count": 8,
   "metadata": {},
   "outputs": [
    {
     "name": "stdout",
     "output_type": "stream",
     "text": [
      "SPARQL QUERY IS:\n",
      "<rdflib.plugins.sparql.sparql.Query object at 0x11926ed50>\n",
      "                  doc                                             format  \\\n",
      "0  wf_input_param_doc  https://www.iana.org/assignments/media-types/t...   \n",
      "\n",
      "                  label                                                 wf  \n",
      "0  wf_input_param_label  arcp://uuid,d589fe1c-9550-46b1-b2ed-260a515e74...  \n"
     ]
    }
   ],
   "source": [
    "namespaces = {\"wf\": wf_namespace, \n",
    "              \"wfdesc\": WFDESC,\n",
    "              \"schema\": SCHEMA }\n",
    "extract_wf_inputs_query = queries_dir / \"wf_input_params_metadata_fields.sparql\"\n",
    "response = run_query(provenance_file, extract_wf_inputs_query, namespaces)\n",
    "print(response)"
   ]
  },
  {
   "cell_type": "markdown",
   "metadata": {},
   "source": [
    "List doc, label, format fields of all output parameters of main workflow."
   ]
  },
  {
   "cell_type": "code",
   "execution_count": 9,
   "metadata": {},
   "outputs": [
    {
     "name": "stdout",
     "output_type": "stream",
     "text": [
      "SPARQL QUERY IS:\n",
      "<rdflib.plugins.sparql.sparql.Query object at 0x10a14c5c0>\n",
      "                   doc                                             format  \\\n",
      "0  wf_output_param_doc  https://www.iana.org/assignments/media-types/t...   \n",
      "\n",
      "                   label                                                 wf  \n",
      "0  wf_output_param_label  arcp://uuid,d589fe1c-9550-46b1-b2ed-260a515e74...  \n"
     ]
    }
   ],
   "source": [
    "namespaces = {\"wf\": wf_namespace, \n",
    "              \"wfdesc\": WFDESC,\n",
    "              \"schema\": SCHEMA }\n",
    "extract_wf_outputs_query = queries_dir / \"wf_output_params_metadata_fields.sparql\"\n",
    "response = run_query(provenance_file, extract_wf_outputs_query, namespaces)\n",
    "print(response)"
   ]
  },
  {
   "cell_type": "markdown",
   "metadata": {},
   "source": [
    "List doc, label, format fields of all input parameters of nested workflows/commandlinetools."
   ]
  },
  {
   "cell_type": "code",
   "execution_count": 10,
   "metadata": {},
   "outputs": [
    {
     "name": "stdout",
     "output_type": "stream",
     "text": [
      "SPARQL QUERY IS:\n",
      "<rdflib.plugins.sparql.sparql.Query object at 0x118c050d0>\n",
      "                                                 clt  \\\n",
      "0  arcp://uuid,d589fe1c-9550-46b1-b2ed-260a515e74...   \n",
      "\n",
      "                                             main_wf            param_doc  \\\n",
      "0  arcp://uuid,d589fe1c-9550-46b1-b2ed-260a515e74...  CLT_input_param_doc   \n",
      "\n",
      "                                        param_format            param_label  \n",
      "0  https://www.iana.org/assignments/media-types/t...  CLT_input_param_label  \n"
     ]
    }
   ],
   "source": [
    "namespaces = {\"wf\": wf_namespace, \n",
    "              \"wfdesc\": WFDESC,\n",
    "              \"schema\": SCHEMA }\n",
    "extract_wf_inputs_query = queries_dir / \"clt_nested_wf_input_params_metadata_fields.sparql\" \n",
    "response = run_query(provenance_file, extract_wf_inputs_query, namespaces)\n",
    "print(response)"
   ]
  },
  {
   "cell_type": "markdown",
   "metadata": {},
   "source": [
    "List doc, label, format fields of all output parameters of nested workflows/commandlinetools."
   ]
  },
  {
   "cell_type": "code",
   "execution_count": 11,
   "metadata": {},
   "outputs": [
    {
     "name": "stdout",
     "output_type": "stream",
     "text": [
      "SPARQL QUERY IS:\n",
      "<rdflib.plugins.sparql.sparql.Query object at 0x1192e2690>\n",
      "                                                 clt  \\\n",
      "0  arcp://uuid,d589fe1c-9550-46b1-b2ed-260a515e74...   \n",
      "\n",
      "                                             main_wf             param_doc  \\\n",
      "0  arcp://uuid,d589fe1c-9550-46b1-b2ed-260a515e74...  CLT_output_param_doc   \n",
      "\n",
      "                                        param_format             param_label  \n",
      "0  https://www.iana.org/assignments/media-types/t...  CLT_output_param_label  \n"
     ]
    }
   ],
   "source": [
    "namespaces = {\"wf\": wf_namespace, \n",
    "              \"wfdesc\": WFDESC,\n",
    "              \"schema\": SCHEMA }\n",
    "extract_wf_outputs_query = queries_dir / \"clt_nested_wf_output_params_metadata_fields.sparql\" \n",
    "response = run_query(provenance_file, extract_wf_outputs_query, nam espaces)\n",
    "print(response)"
   ]
  }
 ],
 "metadata": {
  "interpreter": {
   "hash": "c62268e61c4afe27ae9b7b489ddf7635acdf5c92443b5735506dfc7de80cd647"
  },
  "kernelspec": {
   "display_name": "Python 3.8.8 ('base')",
   "language": "python",
   "name": "python3"
  },
  "language_info": {
   "codemirror_mode": {
    "name": "ipython",
    "version": 3
   },
   "file_extension": ".py",
   "mimetype": "text/x-python",
   "name": "python",
   "nbconvert_exporter": "python",
   "pygments_lexer": "ipython3",
   "version": "3.12.1"
  },
  "orig_nbformat": 4
 },
 "nbformat": 4,
 "nbformat_minor": 2
}
